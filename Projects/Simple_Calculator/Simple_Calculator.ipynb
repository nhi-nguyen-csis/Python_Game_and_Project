{
 "cells": [
  {
   "cell_type": "code",
   "execution_count": 23,
   "id": "f277416a",
   "metadata": {},
   "outputs": [],
   "source": [
    "import math"
   ]
  },
  {
   "cell_type": "code",
   "execution_count": 1,
   "id": "a37c3032",
   "metadata": {},
   "outputs": [],
   "source": [
    "def add(a, b):\n",
    "    return a + b"
   ]
  },
  {
   "cell_type": "code",
   "execution_count": 2,
   "id": "8538a713",
   "metadata": {},
   "outputs": [],
   "source": [
    "def subtract(a, b):\n",
    "    return a - b"
   ]
  },
  {
   "cell_type": "code",
   "execution_count": 3,
   "id": "685518a2",
   "metadata": {},
   "outputs": [],
   "source": [
    "def multiply(a, b):\n",
    "    return a * b"
   ]
  },
  {
   "cell_type": "code",
   "execution_count": 13,
   "id": "b8dfdae3",
   "metadata": {},
   "outputs": [],
   "source": [
    "def divide(a, b):\n",
    "    try:\n",
    "        return a / b\n",
    "    except ZeroDivisionError:\n",
    "        return \"Cannot divide by zero\""
   ]
  },
  {
   "cell_type": "code",
   "execution_count": 86,
   "id": "064cc35e",
   "metadata": {},
   "outputs": [],
   "source": [
    "def log(base, a):\n",
    "\n",
    "    if a <= 0:\n",
    "        raise ValueError(\"Cannot calculate log of a non-positive number\")\n",
    "    elif base <= 0:\n",
    "        raise ValueError(\"Invalid base (base cannot have a non-positive value)\")\n",
    "    \n",
    "    if base == 10:\n",
    "        result = math.log(a)\n",
    "    else:\n",
    "        result = math.log(a) / math.log(base)\n",
    "    \n",
    "    if result.is_integer():\n",
    "        return int(result)\n",
    "    \n",
    "    return result"
   ]
  },
  {
   "cell_type": "code",
   "execution_count": 123,
   "id": "caadc144",
   "metadata": {},
   "outputs": [],
   "source": [
    "def square_root(a):\n",
    "    if a < 0:\n",
    "        raise ValueError(\"Cannot take square root of negative number\")\n",
    "    result = pow(a,0.5)\n",
    "    if result.is_integer():\n",
    "        return int(result)\n",
    "    return result"
   ]
  },
  {
   "cell_type": "code",
   "execution_count": 126,
   "id": "187cb418",
   "metadata": {},
   "outputs": [
    {
     "data": {
      "text/plain": [
       "1"
      ]
     },
     "execution_count": 126,
     "metadata": {},
     "output_type": "execute_result"
    }
   ],
   "source": [
    "square_root(1)"
   ]
  },
  {
   "cell_type": "code",
   "execution_count": 120,
   "id": "ad54abf1",
   "metadata": {},
   "outputs": [],
   "source": [
    "def factorial(num):\n",
    "    if num < 0:\n",
    "        raise ValueError(\"Cannot calculate factorial of a negative number\")\n",
    "    elif not num.is_integer:\n",
    "        raise ValueError(\"Cannot calculate factorial of a float number\")\n",
    "    return int(math.factorial(num))"
   ]
  },
  {
   "cell_type": "code",
   "execution_count": 108,
   "id": "ef6e5317",
   "metadata": {},
   "outputs": [],
   "source": [
    "ops_multiple = {\n",
    "    \"add\": add,\n",
    "    \"subtract\": subtract,\n",
    "    \"divide\": divide,\n",
    "    \"multiply\": multiply,\n",
    "    \"log\": log\n",
    "}\n",
    "\n",
    "ops_single = {\n",
    "    \"square root\": square_root,\n",
    "    \"factorial\": factorial\n",
    "}"
   ]
  },
  {
   "cell_type": "code",
   "execution_count": 109,
   "id": "66da6a37",
   "metadata": {},
   "outputs": [
    {
     "data": {
      "text/plain": [
       "'log'"
      ]
     },
     "execution_count": 109,
     "metadata": {},
     "output_type": "execute_result"
    }
   ],
   "source": [
    "arr = list(ops_multiple.keys())\n",
    "ran = random.choice(arr)\n",
    "ran"
   ]
  },
  {
   "cell_type": "code",
   "execution_count": 110,
   "id": "5b6df8d6",
   "metadata": {},
   "outputs": [],
   "source": [
    "def perform_multiple_oprands(a, op, b):\n",
    "    function = ops_multiple[op]\n",
    "    return function(a, b)"
   ]
  },
  {
   "cell_type": "code",
   "execution_count": 111,
   "id": "3af32961",
   "metadata": {},
   "outputs": [
    {
     "name": "stdout",
     "output_type": "stream",
     "text": [
      "25\n",
      "-15\n",
      "15\n",
      "0.5372435736804817\n"
     ]
    }
   ],
   "source": [
    "print(perform_multiple_oprands(20, 'add', 5))\n",
    "print(perform_multiple_oprands(-20, 'add', 5))\n",
    "print(perform_multiple_oprands(20, 'subtract', 5))\n",
    "print(perform_multiple_oprands(20, 'log', 5))"
   ]
  },
  {
   "cell_type": "code",
   "execution_count": 112,
   "id": "7946c821",
   "metadata": {},
   "outputs": [],
   "source": [
    "op_signs = {\n",
    "    \"add\": \"+\",\n",
    "    \"subtract\": \"-\",\n",
    "    \"divide\": \"/\",\n",
    "    \"multiply\": \"*\",\n",
    "    \"log\": \"log\",\n",
    "    \"square root\": \"sqrt\",\n",
    "    \"factorial\": \"!\"\n",
    "    \n",
    "}"
   ]
  },
  {
   "cell_type": "code",
   "execution_count": 113,
   "id": "c023fb08",
   "metadata": {},
   "outputs": [
    {
     "name": "stdout",
     "output_type": "stream",
     "text": [
      "log(base=64) of 25 = 0.77\n",
      "log(base=89) of 82 = 0.98\n",
      "89 / 54 = 1.65\n",
      "89 * 86 = 7654.00\n",
      "log(base=7) of 31 = 1.76\n",
      "35 / 44 = 0.80\n",
      "34 * 20 = 680.00\n",
      "7 - 83 = -76.00\n",
      "99 / 96 = 1.03\n",
      "85 + 8 = 93.00\n"
     ]
    }
   ],
   "source": [
    "import random\n",
    "def test(num_test):\n",
    "    for i in range(num_test):\n",
    "        num1 = random.randint(1, 100)\n",
    "        num2 = random.randint(1, 100)\n",
    "        op_list = list(ops_multiple.keys())\n",
    "        random_op = random.choice(op_list)\n",
    "        result = perform_multiple_oprands(num1, random_op, num2)\n",
    "        op_sign = op_signs[random_op]\n",
    "        if random_op != \"log\":\n",
    "            print(f\"{num1} {op_sign} {num2} = {result:.2f}\")\n",
    "        else:\n",
    "            print(f\"log(base={num1}) of {num2} = {result:.2f}\")\n",
    "            \n",
    "test(10)"
   ]
  },
  {
   "cell_type": "code",
   "execution_count": 114,
   "id": "d6525026",
   "metadata": {},
   "outputs": [],
   "source": [
    "def perform_single_operand(op, a):\n",
    "    function = ops_single[op]\n",
    "    return function(a)"
   ]
  },
  {
   "cell_type": "code",
   "execution_count": 130,
   "id": "789a6045",
   "metadata": {},
   "outputs": [
    {
     "name": "stdout",
     "output_type": "stream",
     "text": [
      "6! = 720\n",
      "6! = 720\n",
      "4! = 24\n",
      "3! = 6\n",
      "sqrt(3) = 1.73\n",
      "sqrt(9) = 3.00\n",
      "5! = 120\n",
      "sqrt(3) = 1.73\n",
      "9! = 362880\n",
      "2! = 2\n"
     ]
    }
   ],
   "source": [
    "def test(num_test):\n",
    "    for i in range(num_test):\n",
    "        num = random.randint(1, 10)\n",
    "        op_list = list(ops_single.keys())\n",
    "        random_op = random.choice(op_list)\n",
    "        result = perform_single_operand(random_op, num)\n",
    "        op_sign = op_signs[random_op]\n",
    "        if random_op != \"factorial\":\n",
    "            print(f\"{op_sign}({num}) = {result:.2f}\")\n",
    "        else:\n",
    "            print(f\"{num}! = {result}\")\n",
    "            \n",
    "test(10)"
   ]
  }
 ],
 "metadata": {
  "kernelspec": {
   "display_name": "Python 3 (ipykernel)",
   "language": "python",
   "name": "python3"
  },
  "language_info": {
   "codemirror_mode": {
    "name": "ipython",
    "version": 3
   },
   "file_extension": ".py",
   "mimetype": "text/x-python",
   "name": "python",
   "nbconvert_exporter": "python",
   "pygments_lexer": "ipython3",
   "version": "3.10.2"
  }
 },
 "nbformat": 4,
 "nbformat_minor": 5
}
